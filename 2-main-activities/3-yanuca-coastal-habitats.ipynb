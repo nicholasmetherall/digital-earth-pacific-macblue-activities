{
 "cells": [
  {
   "cell_type": "markdown",
   "id": "718f54c3-6d20-4ed0-9752-e1751e6b84e5",
   "metadata": {},
   "source": [
    "<img src=\"https://github.com/nicholasmetherall/digital-earth-pacific-macblue-activities/blob/main/attachments/images/DE_Pacific_banner.JPG?raw=true\" width=\"900\"/>\n",
    "Figure 1.1.a. Jupyter environment + Python notebooks\n",
    "\n",
    "### Digital Earth Pacific Notebook 1 Train Random Forest Machine Learning (ML) Model\n",
    "\n",
    "<font color='green'>The objective of this notebook is to train a machine learning model that will allow us to classify an area with the land cover classes defined through the training data. </font>\n",
    "\n",
    "<font color='blue'>Setup libaries</font>"
   ]
  },
  {
   "cell_type": "code",
   "execution_count": 1,
   "id": "98bda661-ae78-4f82-82b3-e68a5aa32d78",
   "metadata": {},
   "outputs": [],
   "source": [
    "from pystac_client import Client\n",
    "from dask.distributed import Client as DaskClient\n",
    "from odc.stac import load, configure_s3_access\n",
    "import rasterio as rio\n",
    "import geopandas as gpd\n",
    "import pandas as pd\n",
    "import numpy as np\n",
    "import xarray as xr\n",
    "import folium\n",
    "import utils\n",
    "from utils import load_data\n",
    "from utils import mask_and_scale\n",
    "from sklearn.ensemble import RandomForestClassifier\n",
    "import odc.geo.xr\n",
    "import rioxarray\n",
    "import matplotlib.pyplot as plt"
   ]
  },
  {
   "cell_type": "markdown",
   "id": "abb62e5e-32bf-4ccd-8ac1-8e7c95102d5a",
   "metadata": {},
   "source": [
    "<font color='blue'>Define catalogue</font>"
   ]
  },
  {
   "cell_type": "code",
   "execution_count": 2,
   "id": "975ca2ac-2484-4d63-8f54-e7370dd8764e",
   "metadata": {},
   "outputs": [],
   "source": [
    "catalogue = \"https://earth-search.aws.element84.com/v1\"\n",
    "client = Client.open(catalogue)"
   ]
  },
  {
   "cell_type": "markdown",
   "id": "a92b6be8-31f5-4194-8dc8-c1024c191b32",
   "metadata": {},
   "source": [
    "<font color='red'>Define your area of interest - copy and paste the bottom left latitude (min_lat) and the bottem left longitude (min_lon) and the top right latitude (max_lat) and the top right longitude (max_lon)\n",
    "\n",
    "<font color='red'>In this activity you can use the following examples: \n",
    "`-18.1313, -18.1553, 177.4347, 177.4032`\n",
    "  \n",
    "<font color='red'>  Note we have reordered these into the wrong order so you will have to define them correctly below:</font>"
   ]
  },
  {
   "cell_type": "code",
   "execution_count": 23,
   "id": "4138c7b4-4b92-4e6c-b3c2-e3f257ec1d0d",
   "metadata": {},
   "outputs": [],
   "source": [
    "min_lat = \n",
    "min_lon = \n",
    "max_lat =  \n",
    "max_lon = \n",
    "bbox = [min_lon, min_lat, max_lon, max_lat]"
   ]
  },
  {
   "cell_type": "markdown",
   "id": "c012b070-67ad-4124-ac5a-d302e1277378",
   "metadata": {},
   "source": [
    "<font color='red'>Define your time of interest - choose a range of a few months in 2024 using the syntax `datetime=\"YYYY-MM/YYYY-MM\"`</font>"
   ]
  },
  {
   "cell_type": "code",
   "execution_count": 4,
   "id": "96a580b2-f7cf-444c-bcd9-fb87088c4f3a",
   "metadata": {},
   "outputs": [],
   "source": [
    "datetime="
   ]
  },
  {
   "cell_type": "markdown",
   "id": "457974a6-1aa9-4ce6-b3fd-8340548b69b3",
   "metadata": {},
   "source": [
    "<font color='red'>Connect to parallel computers for greater computational capacity - note you should only run this line of code once per notebook activity - do not rerun this line</font>"
   ]
  },
  {
   "cell_type": "code",
   "execution_count": 5,
   "id": "65210110-ac89-4064-bd42-26c29158f820",
   "metadata": {},
   "outputs": [
    {
     "data": {
      "text/plain": [
       "<botocore.credentials.DeferredRefreshableCredentials at 0x7fa0a2b7be50>"
      ]
     },
     "execution_count": 5,
     "metadata": {},
     "output_type": "execute_result"
    }
   ],
   "source": [
    "dask_client = DaskClient(n_workers=1, threads_per_worker=16, memory_limit='16GB')\n",
    "\n",
    "configure_s3_access(cloud_defaults=True, requester_pays=True)"
   ]
  },
  {
   "cell_type": "markdown",
   "id": "e6f85644-1a5e-403b-9930-3870d712ad81",
   "metadata": {},
   "source": [
    "<font color='red'>Define your training data by entering the name of the data and the column of your attribute table you wish to read the data from noting this should be an integer. First enter the full file name including format inside the brackets `(\"file.geojson\")` . Next you will have to name the column properly `column=\"column_name\"`</font>"
   ]
  },
  {
   "cell_type": "code",
   "execution_count": 24,
   "id": "9efbcb6b-96c0-4859-908e-6cd7cbaa1d18",
   "metadata": {
    "scrolled": true
   },
   "outputs": [],
   "source": [
    "# Define training data\n",
    "# 1\n",
    "gdf = gpd.read_file(\"\")\n",
    "\n",
    "gdf = gdf.to_crs(\"EPSG:4326\")\n",
    "\n",
    "# 2\n",
    "gdf.explore(column=\"\", legend=True)\n"
   ]
  },
  {
   "cell_type": "markdown",
   "id": "0c89ed89-1dc2-4286-8992-c5166735a6fa",
   "metadata": {},
   "source": [
    "<font color='red'>Count the number of points in your dataset using the function `print(len(variable))`</font>"
   ]
  },
  {
   "cell_type": "code",
   "execution_count": null,
   "id": "d04bc44b-8f69-4494-85cb-ea921d83735d",
   "metadata": {},
   "outputs": [],
   "source": []
  },
  {
   "cell_type": "markdown",
   "id": "a0571223-208b-4ca1-810c-abf50ad8e366",
   "metadata": {},
   "source": [
    "<font color='red'>Search through the catalogue - define the cloud cover threshold you want. Try changing 80 to 50 here: `{\"lt\": 50}},` </font>"
   ]
  },
  {
   "cell_type": "code",
   "execution_count": 8,
   "id": "463266d6-7f6b-41dc-bae4-cfa064582647",
   "metadata": {},
   "outputs": [
    {
     "name": "stdout",
     "output_type": "stream",
     "text": [
      "Found 55 items\n"
     ]
    }
   ],
   "source": [
    "# Search through catalogue for relevant data\n",
    "items = client.search(\n",
    "    collections=[\"sentinel-2-c1-l2a\"],\n",
    "    bbox=bbox,\n",
    "    datetime=datetime,\n",
    "    query={\"eo:cloud_cover\":{\"lt\": 80}},\n",
    ").item_collection()\n",
    "\n",
    "print(f\"Found {len(items)} items\")\n"
   ]
  },
  {
   "cell_type": "markdown",
   "id": "9a96321f-34c0-41b3-a883-ed5139308766",
   "metadata": {},
   "source": [
    "<font color='blue'>Load your satellite dataset based on your search parameters defined above</font>"
   ]
  },
  {
   "cell_type": "code",
   "execution_count": 9,
   "id": "f514c9ea-39b8-44bc-a68f-33e632a7c648",
   "metadata": {},
   "outputs": [],
   "source": [
    "# data = utils.load_data\n",
    "data = load_data(items, bbox)"
   ]
  },
  {
   "cell_type": "markdown",
   "id": "dd117b45-5318-4361-973a-2d8a6b735f03",
   "metadata": {},
   "source": [
    "<font color='blue'>Set scale and masks and consider the dataset informatoin below including the bands used for analysis:</font>"
   ]
  },
  {
   "cell_type": "code",
   "execution_count": 25,
   "id": "1fe2fc21-d4f7-4260-b1fe-5c759fd368d9",
   "metadata": {},
   "outputs": [],
   "source": [
    "scaled = mask_and_scale(data)\n",
    "scaled"
   ]
  },
  {
   "cell_type": "markdown",
   "id": "dbb44858-9303-4cb6-8583-67f1ed747a1a",
   "metadata": {},
   "source": [
    "<font color='blue'>Explore the satellite image dataset you have loaded</font>"
   ]
  },
  {
   "cell_type": "code",
   "execution_count": 26,
   "id": "96dcbc61-2ceb-43cc-901d-f2ad72ca6a6b",
   "metadata": {},
   "outputs": [],
   "source": [
    "scaled.isel(time=0).odc.explore(bands=(\"red\", \"green\", \"blue\"), vmin=0, vmax=0.3)\n"
   ]
  },
  {
   "cell_type": "markdown",
   "id": "82ea349f-a57d-4a3b-8f17-fb45c8d9e794",
   "metadata": {},
   "source": [
    "<font color='blue'>Generate a median image dataset</font>"
   ]
  },
  {
   "cell_type": "code",
   "execution_count": 12,
   "id": "84f34219-73c6-43ec-a355-1bef76db86ff",
   "metadata": {},
   "outputs": [],
   "source": [
    "median = scaled.median(\"time\").compute()\n",
    "median_image = median.assign_coords(band=[\"red\", \"green\", \"blue\", \"nir\", \"swir1\", \"swir2\"])"
   ]
  },
  {
   "cell_type": "markdown",
   "id": "5a82efc7-b1cc-4ffe-9b15-1627c6138998",
   "metadata": {},
   "source": [
    "<font color='red'>Generate and visualise a mask to exclude land from your analysis. Note, inside the  rio.open() function enter the Near Infrared file using the syntex : `rio.open('median_nir.tif')`</font>"
   ]
  },
  {
   "cell_type": "code",
   "execution_count": 27,
   "id": "ae7378a3-5b50-4f48-8c68-f788d041b0ff",
   "metadata": {},
   "outputs": [],
   "source": [
    "# Open the raster file\n",
    "with rio.open('') as src:\n",
    "    band = src.read(1)  # Read the first band (e.g., NIR)\n",
    "    \n",
    "land_mask = band < 0.2\n",
    "masked_raster = np.ma.masked_where(~land_mask, band)\n",
    "masked_raster_da = xr.DataArray(masked_raster)\n",
    "masked_raster_da.plot.imshow(origin=\"upper\")"
   ]
  },
  {
   "cell_type": "markdown",
   "id": "ec2fcb62-4017-4a6d-8bef-3b30f732bc19",
   "metadata": {},
   "source": [
    "<font color='red'>How and why do you think we use Near Infrared to mask out the land area? Consider figure 2 in your reasoning. This will be a question for discussion. Include some of your notes below:</font>"
   ]
  },
  {
   "cell_type": "markdown",
   "id": "9c0ce175-015d-4e4f-a2ec-b053ad66bb9a",
   "metadata": {},
   "source": [
    "<img src=\"https://github.com/nicholasmetherall/digital-earth-pacific-macblue-activities/blob/main/attachments/images/NIR.jpg?raw=true\" width=\"900\"/>\n",
    "Figure 2. Near infrared reflectance across different land cover types. "
   ]
  },
  {
   "cell_type": "markdown",
   "id": "d5f20cd5-aa71-48fc-bc21-e7ddd081ecde",
   "metadata": {},
   "source": [
    "Notes go here:\n",
    "\n",
    "\n",
    "\n",
    "\n"
   ]
  },
  {
   "cell_type": "markdown",
   "id": "c8a9bb68-290e-4d7f-a8f8-a2f09bbac10c",
   "metadata": {},
   "source": [
    "<font color='blue'>Configure your input training labelled GPS points to train your machine learning model</font>"
   ]
  },
  {
   "cell_type": "code",
   "execution_count": 14,
   "id": "67175fb8-1302-46e9-96cd-577d458b6846",
   "metadata": {},
   "outputs": [],
   "source": [
    "# First transform the training points to the same CRS as the data\n",
    "training = gdf.to_crs(median.odc.geobox.crs)\n",
    "\n",
    "# Next get the X and Y values out of the point geometries\n",
    "training_da = training.assign(x=training.geometry.x, y=training.geometry.y).to_xarray()\n",
    "\n",
    "# Now we can use the x and y values (lon, lat) to extract values from the median composite\n",
    "training_values = (\n",
    "    median.sel(training_da[[\"x\", \"y\"]], method=\"nearest\").squeeze().compute().to_pandas()\n",
    ")\n",
    "\n"
   ]
  },
  {
   "cell_type": "markdown",
   "id": "850d28c5-88d7-4948-b952-7e20adef95e2",
   "metadata": {},
   "source": [
    "<font color='red'>Run this code and look at the table generated including information about the different spectral band values. You wil need to input the column name inside `training[\"column name\"]`</font>"
   ]
  },
  {
   "cell_type": "code",
   "execution_count": 30,
   "id": "2cecb715-ffa9-434a-bbcc-143f5e0b400a",
   "metadata": {},
   "outputs": [],
   "source": [
    "# Join the training data with the extracted values and remove unnecessary columns\n",
    "training_array = pd.concat([training[\"\"], training_values], axis=1)\n",
    "training_array = training_array.drop(\n",
    "    columns=[\n",
    "        \"y\",\n",
    "        \"x\",\n",
    "        \"spatial_ref\",\n",
    "    ]\n",
    ")\n",
    "\n",
    "# Drop rows where there was no data available\n",
    "training_array = training_array.dropna()\n",
    "\n",
    "# Preview our resulting training array\n",
    "training_array.head()"
   ]
  },
  {
   "cell_type": "markdown",
   "id": "470ba49d-4ad6-4093-894d-fba02f4c0893",
   "metadata": {},
   "source": [
    "<font color='blue'>Train the machine learning model</font>"
   ]
  },
  {
   "cell_type": "code",
   "execution_count": 16,
   "id": "c98e1daa-d044-448a-b856-dba2029753ea",
   "metadata": {},
   "outputs": [],
   "source": [
    "# The classes are the first column\n",
    "classes = np.array(training_array)[:, 0]\n",
    "\n",
    "# The observation data is everything after the first column\n",
    "observations = np.array(training_array)[:, 1:]\n",
    "\n",
    "# Create a model...\n",
    "classifier = RandomForestClassifier()\n",
    "\n",
    "# ...and fit it to the data\n",
    "model = classifier.fit(observations, classes)"
   ]
  },
  {
   "cell_type": "markdown",
   "id": "a85cf1e6-457f-47c1-94b1-a4399c5f6efc",
   "metadata": {},
   "source": [
    "<font color='blue'>Prepare the outputs for visualisation</font>"
   ]
  },
  {
   "cell_type": "code",
   "execution_count": 17,
   "id": "1bded1ac-939b-4ddb-b22c-83d520f67f3a",
   "metadata": {},
   "outputs": [],
   "source": [
    "# Convert to a stacked array of observations\n",
    "stacked_arrays = median.to_array().stack(dims=[\"y\", \"x\"]).transpose()\n",
    "\n",
    "# Predict the classes\n",
    "predicted = model.predict(stacked_arrays)\n",
    "\n",
    "# Reshape back to the original 2D array\n",
    "array = predicted.reshape(len(median.y), len(median.x))\n",
    "\n",
    "# Convert to an xarray again, because it's easier to work with\n",
    "predicted_da = xr.DataArray(\n",
    "    array, coords={\"y\": median.y, \"x\": median.x}, dims=[\"y\", \"x\"]\n",
    ")"
   ]
  },
  {
   "cell_type": "code",
   "execution_count": 18,
   "id": "047ea614-c32a-4ed9-9632-3434e40513af",
   "metadata": {},
   "outputs": [
    {
     "name": "stdout",
     "output_type": "stream",
     "text": [
      "float64\n"
     ]
    }
   ],
   "source": [
    "print(predicted_da.dtype)  # Check the dtype of your DataArray\n",
    "predicted_da = predicted_da.astype('float32')  # Convert to float32"
   ]
  },
  {
   "cell_type": "markdown",
   "id": "00e24ac5-3276-41ad-9a52-4226c818c627",
   "metadata": {},
   "source": [
    "<font color='blue'>Visualise the output</font>"
   ]
  },
  {
   "cell_type": "code",
   "execution_count": 31,
   "id": "af626b6e-033b-4dec-9d7c-733e7438beca",
   "metadata": {
    "scrolled": true
   },
   "outputs": [],
   "source": [
    "# Put it all on a single interactive map\n",
    "# center = [np.mean([min_lat[0], max_lat[0]]), np.mean([min_lat[1], max_lat[1]])]\n",
    "# m = folium.Map(location=center, zoom_start=11)\n",
    "\n",
    "center = [(min_lat + max_lat) / 2, (min_lon + max_lon) / 2]  # Assuming min_lon and max_lon are defined\n",
    "m = folium.Map(location=center, zoom_start=13)\n",
    "\n",
    "\n",
    "\n",
    "# RGB for the median\n",
    "median.odc.to_rgba(bands=(\"red\", \"green\", \"blue\"), vmin=0, vmax=0.3).odc.add_to(m, name=\"Median Composite\")\n",
    "\n",
    "\n",
    "# Categorical for the predicted classes and for the training data\n",
    "predicted_da.odc.add_to(m, name=\"Predicted\")\n",
    "gdf.explore(m=m, column=\"class_id\", legend=True, name=\"Training Data\")\n",
    "\n",
    "# Layer control\n",
    "folium.LayerControl().add_to(m)\n",
    "\n",
    "m"
   ]
  },
  {
   "cell_type": "markdown",
   "id": "0b6095fb-6408-41c7-a72c-df6f006eb558",
   "metadata": {},
   "source": [
    "<font color='blue'>Write the resulting output to a tif file you can download and open in QGIS</font>"
   ]
  },
  {
   "cell_type": "code",
   "execution_count": 20,
   "id": "7c7f6942-4823-4e94-ae1a-994eef6b2ceb",
   "metadata": {},
   "outputs": [
    {
     "data": {
      "text/plain": [
       "PosixPath('predicted_randomforest_model_1.tif')"
      ]
     },
     "execution_count": 20,
     "metadata": {},
     "output_type": "execute_result"
    }
   ],
   "source": [
    "predicted_da.odc.write_cog(\"predicted_randomforest_model_1.tif\", overwrite=True)"
   ]
  },
  {
   "cell_type": "markdown",
   "id": "ab97951d-ca05-4fc1-a404-93e448b29016",
   "metadata": {},
   "source": [
    "<font color='blue'>Mask out land from your analysis to focus on the coastal ocean in this example</font>"
   ]
  },
  {
   "cell_type": "code",
   "execution_count": 21,
   "id": "01b53d8a-7c0b-4a5d-bc03-11bfb42b5618",
   "metadata": {},
   "outputs": [
    {
     "data": {
      "image/png": "[encoded data removed]",
      "text/plain": [
       "<Figure size 640x480 with 2 Axes>"
      ]
     },
     "metadata": {},
     "output_type": "display_data"
    }
   ],
   "source": [
    "with rio.open(\"masked_predicted_area_difference.tif\") as src:\n",
    "    band = src.read(1)\n",
    "\n",
    "# Plot the data\n",
    "plt.imshow(band, cmap=\"viridis\")  # Choose a colormap, e.g., \"viridis\"\n",
    "plt.colorbar(label=\"Value\")  # Add a colorbar for reference\n",
    "plt.title(\"Masked Predicted Area Difference\")\n",
    "plt.xlabel(\"X Coordinate\")\n",
    "plt.ylabel(\"Y Coordinate\")\n",
    "plt.show()"
   ]
  },
  {
   "cell_type": "markdown",
   "id": "2ac914a8-93f1-41b5-896f-5ed8f835ec7c",
   "metadata": {},
   "source": [
    "### Congratulations you have completed this activity. Let the instructors know if you have any questions. Otherwise, move onto the next activity \n",
    "\n",
    "<font color='green'>The objective of this notebook was to train the machine learning model that will allow us to classify an area with land cover classes defined through the training data. </font>\n",
    "\n",
    "<font color='blue'>Finished</font>"
   ]
  },
  {
   "cell_type": "code",
   "execution_count": 22,
   "id": "d797f2a3-256d-4ce6-b0ea-6e9d5cbbeceb",
   "metadata": {},
   "outputs": [
    {
     "name": "stdout",
     "output_type": "stream",
     "text": [
      "Finished, well done\n"
     ]
    }
   ],
   "source": [
    "print(\"Finished, well done\")"
   ]
  },
  {
   "cell_type": "code",
   "execution_count": null,
   "id": "0e48601a-7680-458b-ae19-eae31ef9b1ec",
   "metadata": {},
   "outputs": [],
   "source": []
  }
 ],
 "metadata": {
  "kernelspec": {
   "display_name": "Python 3 (ipykernel)",
   "language": "python",
   "name": "python3"
  },
  "language_info": {
   "codemirror_mode": {
    "name": "ipython",
    "version": 3
   },
   "file_extension": ".py",
   "mimetype": "text/x-python",
   "name": "python",
   "nbconvert_exporter": "python",
   "pygments_lexer": "ipython3",
   "version": "3.10.15"
  }
 },
 "nbformat": 4,
 "nbformat_minor": 5
}
