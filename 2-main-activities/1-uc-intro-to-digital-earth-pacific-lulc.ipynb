{
 "cells": [
  {
   "cell_type": "markdown",
   "id": "718f54c3-6d20-4ed0-9752-e1751e6b84e5",
   "metadata": {},
   "source": [
    "<img src=\"https://github.com/nicholasmetherall/digital-earth-pacific-macblue-activities/blob/main/attachments/images/DE_Pacific_banner.JPG?raw=true\" width=\"900\"/>\n",
    "Figure 1.1.a. Jupyter environment + Python notebooks\n",
    "\n",
    "### Digital Earth Pacific Notebook 1 Train Random Forest Machine Learning (ML) Model\n",
    "\n",
    "<font color='green'>The objective of this notebook is to train a machine learning model that will allow us to classify an area with the land cover classes defined through the training data. </font>\n",
    "\n",
    "<font color='blue'>Setup libaries</font>"
   ]
  },
  {
   "cell_type": "code",
   "execution_count": 2,
   "id": "98bda661-ae78-4f82-82b3-e68a5aa32d78",
   "metadata": {},
   "outputs": [],
   "source": [
    "from pystac_client import Client\n",
    "from dask.distributed import Client as DaskClient\n",
    "from odc.stac import load, configure_s3_access\n",
    "import rasterio as rio\n",
    "import geopandas as gpd\n",
    "import pandas as pd\n",
    "import numpy as np\n",
    "import xarray as xr\n",
    "import folium\n",
    "import utils\n",
    "from utils import load_data\n",
    "from utils import mask_and_scale\n",
    "from sklearn.ensemble import RandomForestClassifier\n",
    "import odc.geo.xr\n",
    "import rioxarray\n",
    "import matplotlib.pyplot as plt"
   ]
  },
  {
   "cell_type": "markdown",
   "id": "abb62e5e-32bf-4ccd-8ac1-8e7c95102d5a",
   "metadata": {},
   "source": [
    "<font color='blue'>Define catalogue</font>"
   ]
  },
  {
   "cell_type": "code",
   "execution_count": 3,
   "id": "975ca2ac-2484-4d63-8f54-e7370dd8764e",
   "metadata": {},
   "outputs": [],
   "source": [
    "catalogue = \"https://earth-search.aws.element84.com/v1\"\n",
    "client = Client.open(catalogue)"
   ]
  },
  {
   "cell_type": "markdown",
   "id": "a92b6be8-31f5-4194-8dc8-c1024c191b32",
   "metadata": {},
   "source": [
    "<font color='blue'>Define your area of interest - copy and paste the bottom left latitude (min_lat) and the bottem left longitude (min_lon) and the top right latitude (max_lat) and the top right longitude (max_lon)"
   ]
  },
  {
   "cell_type": "code",
   "execution_count": 4,
   "id": "4138c7b4-4b92-4e6c-b3c2-e3f257ec1d0d",
   "metadata": {},
   "outputs": [],
   "source": [
    "min_lat = -18.1493873\n",
    "min_lon = 178.4424302\n",
    "max_lat = -18.1469528 \n",
    "max_lon = 178.4452552\n",
    "bbox = [min_lon, min_lat, max_lon, max_lat]"
   ]
  },
  {
   "cell_type": "markdown",
   "id": "c012b070-67ad-4124-ac5a-d302e1277378",
   "metadata": {},
   "source": [
    "<font color='red'>Define your time of interest - choose a range of a few months in 2024 using the syntax `datetime=\"YYYY-MM/YYYY-MM\"`</font>"
   ]
  },
  {
   "cell_type": "code",
   "execution_count": 4,
   "id": "96a580b2-f7cf-444c-bcd9-fb87088c4f3a",
   "metadata": {},
   "outputs": [],
   "source": [
    "datetime="
   ]
  },
  {
   "cell_type": "markdown",
   "id": "457974a6-1aa9-4ce6-b3fd-8340548b69b3",
   "metadata": {},
   "source": [
    "<font color='red'>Connect to parallel computers for greater computational capacity - note you should only run this line of code once per notebook activity - do not rerun this line</font>"
   ]
  },
  {
   "cell_type": "code",
   "execution_count": 5,
   "id": "65210110-ac89-4064-bd42-26c29158f820",
   "metadata": {},
   "outputs": [
    {
     "data": {
      "text/plain": [
       "<botocore.credentials.DeferredRefreshableCredentials at 0x7fa0a2b7be50>"
      ]
     },
     "execution_count": 5,
     "metadata": {},
     "output_type": "execute_result"
    }
   ],
   "source": [
    "dask_client = DaskClient(n_workers=1, threads_per_worker=16, memory_limit='16GB')\n",
    "\n",
    "configure_s3_access(cloud_defaults=True, requester_pays=True)"
   ]
  },
  {
   "cell_type": "markdown",
   "id": "e6f85644-1a5e-403b-9930-3870d712ad81",
   "metadata": {},
   "source": [
    "<font color='red'>Define your training data by entering the name of the data and the column of your attribute table you wish to read the data from noting this should be an integer. First enter the full file name including format inside the brackets `(\"uc_tdata.geojson\")` . Next you will have to name the column properly `column=\"class_id\"`</font>"
   ]
  },
  {
   "cell_type": "code",
   "execution_count": 24,
   "id": "9efbcb6b-96c0-4859-908e-6cd7cbaa1d18",
   "metadata": {
    "scrolled": true
   },
   "outputs": [],
   "source": [
    "# Define training data\n",
    "# 1\n",
    "gdf = gpd.read_file(\"\")\n",
    "\n",
    "gdf = gdf.to_crs(\"EPSG:4326\")\n",
    "\n",
    "# 2\n",
    "gdf.explore(column=\"\", legend=True)\n"
   ]
  },
  {
   "cell_type": "markdown",
   "id": "0c89ed89-1dc2-4286-8992-c5166735a6fa",
   "metadata": {},
   "source": [
    "<font color='red'>Count the number of points in your dataset using the function `print(len(variable))` where the variable is the what you stored the geopandas dataset is in</font>"
   ]
  },
  {
   "cell_type": "code",
   "execution_count": null,
   "id": "2729d6cc-ad40-446b-8000-0b8c96c13023",
   "metadata": {},
   "outputs": [],
   "source": []
  },
  {
   "cell_type": "markdown",
   "id": "2a8c7fba-92ab-45f5-b1fa-dd460f582dd6",
   "metadata": {},
   "source": [
    "<font color='green'>Discussion question: Where is the training data from?</font>"
   ]
  },
  {
   "cell_type": "markdown",
   "id": "00524b05-385a-49d3-b120-a39c5d1d5603",
   "metadata": {},
   "source": [
    "<font color='green'>Discussion question: move your mouse around each point and pan around the map. What do you think each class or point colour represents? Class 1,2,3? Hint there is a class for buildings, grasslands and trees. So which class number corresponds to each land cover type?</font>"
   ]
  },
  {
   "cell_type": "markdown",
   "id": "a0571223-208b-4ca1-810c-abf50ad8e366",
   "metadata": {},
   "source": [
    "<font color='red'>Search through the catalogue - define the cloud cover threshold you want. Try changing 80 to 25 here: `{\"lt\": 25}},` </font>"
   ]
  },
  {
   "cell_type": "code",
   "execution_count": 8,
   "id": "463266d6-7f6b-41dc-bae4-cfa064582647",
   "metadata": {},
   "outputs": [
    {
     "name": "stdout",
     "output_type": "stream",
     "text": [
      "Found 55 items\n"
     ]
    }
   ],
   "source": [
    "# Search through catalogue for relevant data\n",
    "items = client.search(\n",
    "    collections=[\"sentinel-2-c1-l2a\"],\n",
    "    bbox=bbox,\n",
    "    datetime=datetime,\n",
    "    query={\"eo:cloud_cover\":{\"lt\": 80}},\n",
    ").item_collection()\n",
    "\n",
    "print(f\"Found {len(items)} items\")\n"
   ]
  },
  {
   "cell_type": "markdown",
   "id": "9a96321f-34c0-41b3-a883-ed5139308766",
   "metadata": {},
   "source": [
    "<font color='blue'>Load your satellite dataset based on your search parameters defined above</font>"
   ]
  },
  {
   "cell_type": "code",
   "execution_count": 9,
   "id": "f514c9ea-39b8-44bc-a68f-33e632a7c648",
   "metadata": {},
   "outputs": [],
   "source": [
    "# data = utils.load_data\n",
    "data = load_data(items, bbox)"
   ]
  },
  {
   "cell_type": "markdown",
   "id": "dd117b45-5318-4361-973a-2d8a6b735f03",
   "metadata": {},
   "source": [
    "<font color='blue'>Set scale and masks and consider the dataset informatoin below including the bands used for analysis:</font>"
   ]
  },
  {
   "cell_type": "code",
   "execution_count": 25,
   "id": "1fe2fc21-d4f7-4260-b1fe-5c759fd368d9",
   "metadata": {},
   "outputs": [],
   "source": [
    "scaled = mask_and_scale(data)\n",
    "scaled"
   ]
  },
  {
   "cell_type": "markdown",
   "id": "dbb44858-9303-4cb6-8583-67f1ed747a1a",
   "metadata": {},
   "source": [
    "<font color='blue'>Explore the satellite image dataset you have loaded</font>"
   ]
  },
  {
   "cell_type": "code",
   "execution_count": 26,
   "id": "96dcbc61-2ceb-43cc-901d-f2ad72ca6a6b",
   "metadata": {},
   "outputs": [],
   "source": [
    "scaled.isel(time=0).odc.explore(bands=(\"red\", \"green\", \"blue\"), vmin=0, vmax=0.3)\n"
   ]
  },
  {
   "cell_type": "markdown",
   "id": "82ea349f-a57d-4a3b-8f17-fb45c8d9e794",
   "metadata": {},
   "source": [
    "<font color='blue'>Generate a median image dataset</font>"
   ]
  },
  {
   "cell_type": "code",
   "execution_count": 12,
   "id": "84f34219-73c6-43ec-a355-1bef76db86ff",
   "metadata": {},
   "outputs": [],
   "source": [
    "median = scaled.median(\"time\").compute()\n",
    "median_image = median.assign_coords(band=[\"red\", \"green\", \"blue\", \"nir\", \"swir1\", \"swir2\"])"
   ]
  },
  {
   "cell_type": "markdown",
   "id": "c8a9bb68-290e-4d7f-a8f8-a2f09bbac10c",
   "metadata": {},
   "source": [
    "<font color='blue'>Configure your input training labelled GPS points to train your machine learning model</font>"
   ]
  },
  {
   "cell_type": "code",
   "execution_count": 14,
   "id": "67175fb8-1302-46e9-96cd-577d458b6846",
   "metadata": {},
   "outputs": [],
   "source": [
    "# First transform the training points to the same CRS as the data\n",
    "training = gdf.to_crs(median.odc.geobox.crs)\n",
    "\n",
    "# Next get the X and Y values out of the point geometries\n",
    "training_da = training.assign(x=training.geometry.x, y=training.geometry.y).to_xarray()\n",
    "\n",
    "# Now we can use the x and y values (lon, lat) to extract values from the median composite\n",
    "training_values = (\n",
    "    median.sel(training_da[[\"x\", \"y\"]], method=\"nearest\").squeeze().compute().to_pandas()\n",
    ")\n",
    "\n"
   ]
  },
  {
   "cell_type": "markdown",
   "id": "850d28c5-88d7-4948-b952-7e20adef95e2",
   "metadata": {},
   "source": [
    "<font color='red'>Run this code and look at the table generated including information about the different spectral band values. You wil need to input the column name inside `training[\"column name\"]`</font>"
   ]
  },
  {
   "cell_type": "code",
   "execution_count": 30,
   "id": "2cecb715-ffa9-434a-bbcc-143f5e0b400a",
   "metadata": {},
   "outputs": [],
   "source": [
    "# Join the training data with the extracted values and remove unnecessary columns\n",
    "training_array = pd.concat([training[\"\"], training_values], axis=1)\n",
    "training_array = training_array.drop(\n",
    "    columns=[\n",
    "        \"y\",\n",
    "        \"x\",\n",
    "        \"spatial_ref\",\n",
    "    ]\n",
    ")\n",
    "\n",
    "# Drop rows where there was no data available\n",
    "training_array = training_array.dropna()\n",
    "\n",
    "# Preview our resulting training array\n",
    "training_array.head()"
   ]
  },
  {
   "cell_type": "markdown",
   "id": "470ba49d-4ad6-4093-894d-fba02f4c0893",
   "metadata": {},
   "source": [
    "<font color='blue'>Train the machine learning model</font>"
   ]
  },
  {
   "cell_type": "code",
   "execution_count": 16,
   "id": "c98e1daa-d044-448a-b856-dba2029753ea",
   "metadata": {},
   "outputs": [],
   "source": [
    "# The classes are the first column\n",
    "classes = np.array(training_array)[:, 0]\n",
    "\n",
    "# The observation data is everything after the first column\n",
    "observations = np.array(training_array)[:, 1:]\n",
    "\n",
    "# Create a model...\n",
    "classifier = RandomForestClassifier()\n",
    "\n",
    "# ...and fit it to the data\n",
    "model = classifier.fit(observations, classes)"
   ]
  },
  {
   "cell_type": "markdown",
   "id": "a85cf1e6-457f-47c1-94b1-a4399c5f6efc",
   "metadata": {},
   "source": [
    "<font color='blue'>Prepare the outputs for visualisation</font>"
   ]
  },
  {
   "cell_type": "code",
   "execution_count": 17,
   "id": "1bded1ac-939b-4ddb-b22c-83d520f67f3a",
   "metadata": {},
   "outputs": [],
   "source": [
    "# Convert to a stacked array of observations\n",
    "stacked_arrays = median.to_array().stack(dims=[\"y\", \"x\"]).transpose()\n",
    "\n",
    "# Predict the classes\n",
    "predicted = model.predict(stacked_arrays)\n",
    "\n",
    "# Reshape back to the original 2D array\n",
    "array = predicted.reshape(len(median.y), len(median.x))\n",
    "\n",
    "# Convert to an xarray again, because it's easier to work with\n",
    "predicted_da = xr.DataArray(\n",
    "    array, coords={\"y\": median.y, \"x\": median.x}, dims=[\"y\", \"x\"]\n",
    ")"
   ]
  },
  {
   "cell_type": "code",
   "execution_count": 18,
   "id": "047ea614-c32a-4ed9-9632-3434e40513af",
   "metadata": {},
   "outputs": [
    {
     "name": "stdout",
     "output_type": "stream",
     "text": [
      "float64\n"
     ]
    }
   ],
   "source": [
    "print(predicted_da.dtype)  # Check the dtype of your DataArray\n",
    "predicted_da = predicted_da.astype('float32')  # Convert to float32"
   ]
  },
  {
   "cell_type": "markdown",
   "id": "00e24ac5-3276-41ad-9a52-4226c818c627",
   "metadata": {},
   "source": [
    "<font color='blue'>Visualise the output</font>"
   ]
  },
  {
   "cell_type": "code",
   "execution_count": 31,
   "id": "af626b6e-033b-4dec-9d7c-733e7438beca",
   "metadata": {
    "scrolled": true
   },
   "outputs": [],
   "source": [
    "# Put it all on a single interactive map\n",
    "# center = [np.mean([min_lat[0], max_lat[0]]), np.mean([min_lat[1], max_lat[1]])]\n",
    "# m = folium.Map(location=center, zoom_start=11)\n",
    "\n",
    "center = [(min_lat + max_lat) / 2, (min_lon + max_lon) / 2]  # Assuming min_lon and max_lon are defined\n",
    "m = folium.Map(location=center, zoom_start=13)\n",
    "\n",
    "\n",
    "\n",
    "# RGB for the median\n",
    "median.odc.to_rgba(bands=(\"red\", \"green\", \"blue\"), vmin=0, vmax=0.3).odc.add_to(m, name=\"Median Composite\")\n",
    "\n",
    "\n",
    "# Categorical for the predicted classes and for the training data\n",
    "predicted_da.odc.add_to(m, name=\"Predicted\")\n",
    "gdf.explore(m=m, column=\"class_id\", legend=True, name=\"Training Data\")\n",
    "\n",
    "# Layer control\n",
    "folium.LayerControl().add_to(m)\n",
    "\n",
    "m"
   ]
  },
  {
   "cell_type": "markdown",
   "id": "5ff78f65-8782-43e4-a218-ea3999e90823",
   "metadata": {},
   "source": [
    "<font color='green'>Discussion question: you now have a model / prediction of the three different classes represented by three different classes: trees, grasslands and buildings. Which colour do you think corresponds to each colour?</font>"
   ]
  },
  {
   "cell_type": "markdown",
   "id": "0b6095fb-6408-41c7-a72c-df6f006eb558",
   "metadata": {},
   "source": [
    "<font color='blue'>Write the resulting output to a tif file you can download and open in QGIS then you can play with the different colours in the map and make further customisations</font>"
   ]
  },
  {
   "cell_type": "code",
   "execution_count": 20,
   "id": "7c7f6942-4823-4e94-ae1a-994eef6b2ceb",
   "metadata": {},
   "outputs": [
    {
     "data": {
      "text/plain": [
       "PosixPath('predicted_randomforest_model_1.tif')"
      ]
     },
     "execution_count": 20,
     "metadata": {},
     "output_type": "execute_result"
    }
   ],
   "source": [
    "predicted_da.odc.write_cog(\"predicted_randomforest_model_1.tif\", overwrite=True)"
   ]
  },
  {
   "cell_type": "markdown",
   "id": "2ac914a8-93f1-41b5-896f-5ed8f835ec7c",
   "metadata": {},
   "source": [
    "### Congratulations you have completed this activity. Let the instructors know if you have any questions. Otherwise, move onto the next activity \n",
    "\n",
    "<font color='green'>The objective of this notebook was to train the machine learning model that will allow us to classify an area with land cover classes defined through the training data. </font>\n",
    "\n",
    "<font color='blue'>Finished</font>"
   ]
  },
  {
   "cell_type": "code",
   "execution_count": 22,
   "id": "d797f2a3-256d-4ce6-b0ea-6e9d5cbbeceb",
   "metadata": {},
   "outputs": [
    {
     "name": "stdout",
     "output_type": "stream",
     "text": [
      "Finished, well done\n"
     ]
    }
   ],
   "source": [
    "print(\"Finished, well done\")"
   ]
  },
  {
   "cell_type": "code",
   "execution_count": null,
   "id": "0e48601a-7680-458b-ae19-eae31ef9b1ec",
   "metadata": {},
   "outputs": [],
   "source": []
  }
 ],
 "metadata": {
  "kernelspec": {
   "display_name": "Python 3 (ipykernel)",
   "language": "python",
   "name": "python3"
  },
  "language_info": {
   "codemirror_mode": {
    "name": "ipython",
    "version": 3
   },
   "file_extension": ".py",
   "mimetype": "text/x-python",
   "name": "python",
   "nbconvert_exporter": "python",
   "pygments_lexer": "ipython3",
   "version": "3.10.15"
  }
 },
 "nbformat": 4,
 "nbformat_minor": 5
}
