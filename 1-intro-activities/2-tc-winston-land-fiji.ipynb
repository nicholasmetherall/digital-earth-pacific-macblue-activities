{
 "cells": [
  {
   "cell_type": "code",
   "execution_count": 3,
   "id": "25731c0d-bd95-4910-ae21-2c466975e798",
   "metadata": {},
   "outputs": [
    {
     "name": "stdout",
     "output_type": "stream",
     "text": [
      "Requirement already satisfied: openpyxl in /srv/conda/envs/notebook/lib/python3.10/site-packages (3.1.5)\n",
      "Requirement already satisfied: et-xmlfile in /srv/conda/envs/notebook/lib/python3.10/site-packages (from openpyxl) (2.0.0)\n"
     ]
    }
   ],
   "source": [
    "# import libraries as lib\n",
    "import geopandas as gpd\n",
    "import pandas as pd\n",
    "import rasterio as rio\n",
    "import xarray as xr\n",
    "\n",
    "!pip install openpyxl\n"
   ]
  },
  {
   "cell_type": "code",
   "execution_count": 4,
   "id": "348ff4a5-9a60-40ea-b1ae-670bb5fd8348",
   "metadata": {},
   "outputs": [],
   "source": [
    "import openpyxl\n",
    "import os\n",
    "from pathlib import Path\n",
    "import geopandas as gpd\n",
    "import pandas as pd\n",
    "import numpy as np\n",
    "import xarray as xr\n",
    "import xrspatial.multispectral as ms\n",
    "from xrspatial.focal import mean, focal_stats, hotspots\n",
    "import stackstac\n",
    "import matplotlib as mpl\n",
    "import matplotlib.pyplot as plt\n",
    "from matplotlib.colors import ListedColormap\n",
    "from collections import OrderedDict\n",
    "from shapely.geometry import shape\n",
    "import rioxarray\n",
    "from rasterio.crs import CRS\n",
    "from rasterio.plot import show\n",
    "import rasterio.features\n",
    "import itertools\n",
    "import cartopy.crs as ccrs\n",
    "import rioxarray\n",
    "import dask.array as da\n",
    "import joblib\n",
    "import xarray as xr\n",
    "from geopandas import GeoDataFrame\n",
    "from pandas import Series\n",
    "from xarray import Dataset\n",
    "from flox.xarray import xarray_reduce\n",
    "import warnings"
   ]
  },
  {
   "cell_type": "markdown",
   "id": "61425a67-c5ca-4e70-887b-a1cb5b6f233b",
   "metadata": {},
   "source": [
    "## Background\n",
    "Tropical Cyclone Winston (TC Winston) made landfall over Fiji in April 2016. It was a record breaking TC event and the most severe tropical cyclone recorded in Fiji's history. In this activity you will plot the areas of Fiji and the areas of the 64 knot wind speed swath of TC Winston.   "
   ]
  },
  {
   "cell_type": "code",
   "execution_count": 28,
   "id": "8677b682-db1c-4f69-b693-04b00a8b8c86",
   "metadata": {},
   "outputs": [],
   "source": [
    "Winston_64kn = gpd.read_file(\"Winston_64kn.geojson\").to_crs(\"EPSG:32760\")"
   ]
  },
  {
   "cell_type": "code",
   "execution_count": 29,
   "id": "f0301e27-9d0f-4663-9d6c-96ee512f280c",
   "metadata": {},
   "outputs": [],
   "source": [
    "bbox = gpd.read_file(\"bbox_fiji.geojson\").to_crs(\"EPSG:32760\")"
   ]
  },
  {
   "cell_type": "code",
   "execution_count": 30,
   "id": "da0a15ae-5391-4515-a241-0ae6f9c7e260",
   "metadata": {},
   "outputs": [],
   "source": [
    "fiji_land = gpd.read_file(\"fiji-land.geojson\").fillna(0).to_crs(\"EPSG:32760\")\n",
    "fiji_land['m2'] = fiji_land.geometry.area\n"
   ]
  },
  {
   "cell_type": "markdown",
   "id": "79c4491a-5478-4fe2-b05e-d05a3a6bb38c",
   "metadata": {},
   "source": [
    "Q.1a. What is the area of Fiji recorded in this dataset in m2? "
   ]
  },
  {
   "cell_type": "code",
   "execution_count": null,
   "id": "1a62623a-cb4a-4a15-b49b-5e7124626397",
   "metadata": {},
   "outputs": [],
   "source": []
  },
  {
   "cell_type": "markdown",
   "id": "7c06c739-f8be-41a2-8d5b-c159fb8f786b",
   "metadata": {},
   "source": [
    "Q.1b. What is the area of Fiji recorded in this dataset in km2? "
   ]
  },
  {
   "cell_type": "code",
   "execution_count": null,
   "id": "72e0faf2-112f-475a-953a-85cd00583c07",
   "metadata": {},
   "outputs": [],
   "source": []
  },
  {
   "cell_type": "markdown",
   "id": "5514ba20-2cee-4481-86f9-89d7d51d8c99",
   "metadata": {},
   "source": [
    "Q.2a. Plot the area of Fiji using the following syntax variable.plot()"
   ]
  },
  {
   "cell_type": "code",
   "execution_count": null,
   "id": "d4086a57-00e4-46dc-989d-db7b3ffb84c3",
   "metadata": {},
   "outputs": [],
   "source": []
  },
  {
   "cell_type": "markdown",
   "id": "39bbd47c-a494-4a9b-b14c-3562d1804a27",
   "metadata": {},
   "source": [
    "Q.2b. Using the same method plot the area of Tropical Cyclone Winston 64 knot wind speed swath "
   ]
  },
  {
   "cell_type": "code",
   "execution_count": null,
   "id": "a667aeea-cfc2-4ace-9d14-fbda8a1a2769",
   "metadata": {},
   "outputs": [],
   "source": []
  },
  {
   "cell_type": "markdown",
   "id": "b0634110-b689-4ea1-bccb-1f9ad7abd2cc",
   "metadata": {},
   "source": [
    "### Land area within the 64 knot wind speed swath\n",
    "Often the areas most affected by tropical cyclones are exposed to the highest wind speed forcing. Here you will plot the areas of Fiji falling within the 64 knot wind speed swath of TC Winston:  "
   ]
  },
  {
   "cell_type": "code",
   "execution_count": 46,
   "id": "8b14cd3c-3822-433d-8b32-ab81066b12aa",
   "metadata": {},
   "outputs": [],
   "source": [
    "land_Winston_64kn = gpd.clip(fiji_land, Winston_64kn)"
   ]
  },
  {
   "cell_type": "markdown",
   "id": "a56e1975-e1f5-4ab7-ad57-0cf27ba0b3e8",
   "metadata": {},
   "source": [
    "#### The area of the land within the 64 knot wind speed swath of TC Winston is defined within the variable  `land_Winston_64kn` "
   ]
  },
  {
   "cell_type": "markdown",
   "id": "741a977b-3b3a-4e06-b517-a5831cb72d9d",
   "metadata": {},
   "source": [
    "Q.3a. What is the area of the land within the 64 knot wind speed swath of TC Winston in km2? in m2?"
   ]
  },
  {
   "cell_type": "code",
   "execution_count": null,
   "id": "dda45de2-bfff-47e1-bc1b-a31cb445a834",
   "metadata": {},
   "outputs": [],
   "source": []
  },
  {
   "cell_type": "markdown",
   "id": "9e2cd722-8e96-448d-9fd3-8494f6c687f2",
   "metadata": {},
   "source": [
    "Q.3b. What is the area of the land within the 64 knot wind speed swath of TC Winston in km2? "
   ]
  },
  {
   "cell_type": "code",
   "execution_count": null,
   "id": "cf8d54ff-00ff-42ca-b281-84cd9700f2fc",
   "metadata": {},
   "outputs": [],
   "source": []
  },
  {
   "cell_type": "markdown",
   "id": "59f2cdfa-779e-4814-8c07-721dbb74b7f2",
   "metadata": {},
   "source": [
    "Q.3c. Plot the area of land affected within the 64 knot wind speed swath of the path of TC Winston \n"
   ]
  },
  {
   "cell_type": "code",
   "execution_count": null,
   "id": "0764811f-b3c8-4bf5-bfca-fddc24111f05",
   "metadata": {},
   "outputs": [],
   "source": []
  },
  {
   "cell_type": "markdown",
   "id": "ec5079c9-a040-4021-8c0f-ed40870892fe",
   "metadata": {},
   "source": [
    "### Bonus activity - complete the same workflow steps (questions 1-3) with the TC Yasa 64 knot wind speed swath  "
   ]
  },
  {
   "cell_type": "code",
   "execution_count": null,
   "id": "264f45e6-949a-4f77-b5e4-73cfa062e5d0",
   "metadata": {},
   "outputs": [],
   "source": []
  }
 ],
 "metadata": {
  "kernelspec": {
   "display_name": "Python 3 (ipykernel)",
   "language": "python",
   "name": "python3"
  },
  "language_info": {
   "codemirror_mode": {
    "name": "ipython",
    "version": 3
   },
   "file_extension": ".py",
   "mimetype": "text/x-python",
   "name": "python",
   "nbconvert_exporter": "python",
   "pygments_lexer": "ipython3",
   "version": "3.10.15"
  }
 },
 "nbformat": 4,
 "nbformat_minor": 5
}
