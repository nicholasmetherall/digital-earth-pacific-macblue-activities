{
 "cells": [
  {
   "cell_type": "markdown",
   "id": "e638bdc2-1d9f-4c12-a2d2-eb2b4ce311e2",
   "metadata": {},
   "source": [
    "<img src=\"https://github.com/digitalearthpacific/DigitalEarthPacific/blob/main/notebooks/DEP_LCAST/reference_materials/images/1.1a.JPG?raw=true\" width=\"600\"/>\n",
    "Figure 1.1.a. Jupyter environment + Python notebooks"
   ]
  },
  {
   "cell_type": "markdown",
   "id": "cec986c3-84bc-4dd3-ae66-a3efc351145c",
   "metadata": {},
   "source": [
    "# Example Notebook - demonstrating interative data exploration\n",
    "Intended for new users of Python. The notebook provides an example of Python for geospatial data ecploration making use of the library geopandas. For questions regarding this notebook contact the author via https://github.com/rosepearson"
   ]
  },
  {
   "cell_type": "code",
   "execution_count": null,
   "id": "25731c0d-bd95-4910-ae21-2c466975e798",
   "metadata": {},
   "outputs": [],
   "source": [
    "# import libraries as lib\n",
    "import geopandas as gpd"
   ]
  },
  {
   "cell_type": "markdown",
   "id": "61425a67-c5ca-4e70-887b-a1cb5b6f233b",
   "metadata": {},
   "source": [
    "## Background\n",
    "<font color='blue'>Tropical Cyclone Winston (TC Winston) made landfall over Fiji in April 2016. It was a record breaking TC event and the most severe tropical cyclone recorded in Fiji's history. In this activity you will plot the areas of Fiji and the areas of the 64 knot wind speed swath of TC Winston.  \n",
    "</font>"
   ]
  },
  {
   "cell_type": "markdown",
   "id": "cd82308a-7c65-4ded-9d8a-1d84edf78476",
   "metadata": {},
   "source": [
    "<div><img src=\"https://github.com/nicholasmetherall/digital-earth-pacific-macblue-activities/blob/main/attachments/images/TC_Winston_2.JPG?raw=true\" width=\"900\"/>\n",
    "Figure 1. Tropical Cyclone Winston"
   ]
  },
  {
   "cell_type": "markdown",
   "id": "e2c3e04b-01e0-4452-836f-13c6c2cad5c4",
   "metadata": {},
   "source": [
    "In this notebook we will load in information. Clip to the weatern side of Fiji and then plot interactively so we can visualise the data much like in QGIS or ArcGIS."
   ]
  },
  {
   "cell_type": "code",
   "execution_count": null,
   "id": "8677b682-db1c-4f69-b693-04b00a8b8c86",
   "metadata": {},
   "outputs": [],
   "source": [
    "Winston_64kn = gpd.read_file(\"Winston_64kn.geojson\").to_crs(\"EPSG:32760\")"
   ]
  },
  {
   "cell_type": "code",
   "execution_count": null,
   "id": "f0301e27-9d0f-4663-9d6c-96ee512f280c",
   "metadata": {},
   "outputs": [],
   "source": [
    "western_fiji_bbox = gpd.read_file(\"bbox_fiji.geojson\").to_crs(\"EPSG:32760\")"
   ]
  },
  {
   "cell_type": "code",
   "execution_count": null,
   "id": "da0a15ae-5391-4515-a241-0ae6f9c7e260",
   "metadata": {},
   "outputs": [],
   "source": [
    "fiji_land = gpd.read_file(\"fiji-land.geojson\").fillna(0).to_crs(\"EPSG:32760\")\n",
    "fiji_land['m2'] = fiji_land.geometry.area"
   ]
  },
  {
   "cell_type": "code",
   "execution_count": null,
   "id": "c4d713a2-7c2b-49b7-87cc-63010448f1a5",
   "metadata": {},
   "outputs": [],
   "source": [
    "fiji_buildings = gpd.read_file(\"fiji_buildings_112024.geojson\").to_crs(\"EPSG:32760\")"
   ]
  },
  {
   "cell_type": "markdown",
   "id": "210e7bde-6829-49ca-be98-b7a3b9436f5d",
   "metadata": {},
   "source": [
    "# Interactive data exploration\n",
    "Use geopadnas.explore() to plot several datasets in an interactive plot. Execute the cell below, and then zoom in and out and explore the map contents."
   ]
  },
  {
   "cell_type": "code",
   "execution_count": null,
   "id": "a5e1d7cf-be8a-41d2-a82a-c7240274347d",
   "metadata": {},
   "outputs": [],
   "source": [
    "map_fiji = fiji_land.clip(western_fiji_bbox).explore(color=\"blue\", style_kwds={\"fillOpacity\": 0.3, })\n",
    "Winston_64kn[[\"SEASON\", \"geometry\"]].explore(m=map_fiji, color=\"magenta\", style_kwds={\"fillOpacity\": 0.1, })\n",
    "fiji_buildings.explore(column=\"usage-occu\", m=map_fiji)"
   ]
  },
  {
   "cell_type": "markdown",
   "id": "4e08d15a-5e59-4268-9902-69fbd6b3def4",
   "metadata": {},
   "source": [
    "You can also plot the geopandas dataframes to explore the contents of the dataset. Below the first 5 rows are plotted. Try change the number `5` to plot more rows."
   ]
  },
  {
   "cell_type": "code",
   "execution_count": null,
   "id": "1dbfa42b-33c9-45cb-87d7-d952d99cd2e8",
   "metadata": {},
   "outputs": [],
   "source": [
    "fiji_buildings.head(5)"
   ]
  },
  {
   "cell_type": "markdown",
   "id": "71b0bf36-9449-4745-8bc3-0721d5f1a56f",
   "metadata": {},
   "source": [
    "# Optional exercise - show roof slope instead of building type\n",
    "In tropical cyclones the roof pitch has a big impact of building suseptability to damage. Flat foorded buildings are more likely to be damaged. Can you change the interactive plot below to display the `roof-pitch` attribute instead of the `usage-occu` attribute."
   ]
  },
  {
   "cell_type": "code",
   "execution_count": null,
   "id": "9a865d66-0de4-4a3d-aa7e-e7ac82495363",
   "metadata": {},
   "outputs": [],
   "source": [
    "map_fiji = fiji_land.clip(western_fiji_bbox).explore(color=\"blue\", style_kwds={\"fillOpacity\": 0.3, })\n",
    "Winston_64kn[[\"SEASON\", \"geometry\"]].explore(m=map_fiji, color=\"magenta\", style_kwds={\"fillOpacity\": 0.1, })\n",
    "fiji_buildings.explore(column=\"usage-occu\", m=map_fiji)"
   ]
  }
 ],
 "metadata": {
  "kernelspec": {
   "display_name": "Raster",
   "language": "python",
   "name": "raster"
  },
  "language_info": {
   "codemirror_mode": {
    "name": "ipython",
    "version": 3
   },
   "file_extension": ".py",
   "mimetype": "text/x-python",
   "name": "python",
   "nbconvert_exporter": "python",
   "pygments_lexer": "ipython3",
   "version": "3.11.9"
  }
 },
 "nbformat": 4,
 "nbformat_minor": 5
}
